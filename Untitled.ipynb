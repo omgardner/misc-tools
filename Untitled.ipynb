{
 "cells": [
  {
   "cell_type": "code",
   "execution_count": 98,
   "metadata": {
    "collapsed": true
   },
   "outputs": [],
   "source": [
    "import os\n",
    "import shutil\n",
    "import glob"
   ]
  },
  {
   "cell_type": "code",
   "execution_count": 101,
   "metadata": {
    "collapsed": false
   },
   "outputs": [],
   "source": [
    "curdir = os.path.abspath('.')\n",
    "dest_path = os.path.join(curdir,'test_twitch')\n",
    "\n",
    "if not os.path.exists(dest_path):\n",
    "    os.mkdir(dest_path)\n",
    "\n",
    "src = os.path.abspath('../twitch\\twitch-mods\\avatars')\n",
    "\n",
    "for dirpath, dirnames, filenames in os.walk(src):\n",
    "    print(dirpath)"
   ]
  },
  {
   "cell_type": "code",
   "execution_count": 119,
   "metadata": {
    "collapsed": false
   },
   "outputs": [
    {
     "data": {
      "text/plain": [
       "['C:\\\\Users\\\\Oscar\\\\projects\\\\twitch\\twitch-mods\\x07vatars\\\\']"
      ]
     },
     "execution_count": 119,
     "metadata": {},
     "output_type": "execute_result"
    }
   ],
   "source": [
    "src_format = '{}/**'.format(src)\n",
    "glob.glob(src_format, recursive=True)"
   ]
  },
  {
   "cell_type": "code",
   "execution_count": 109,
   "metadata": {
    "collapsed": false
   },
   "outputs": [],
   "source": [
    "src_format = '{}/**'.format(src)\n",
    "\n",
    "for src_path in glob.glob(src_format, recursive=True):\n",
    "    # move files to out_p\n",
    "    src_filename = os.path.split(src_path)[-1]\n",
    "    if os.path.isfile(src_path):\n",
    "        try:\n",
    "            shutil.copyfile(src_path,os.path.join(dest_path,src_filename))\n",
    "            print(src_filename, 'moved successfuly.')\n",
    "        except FileExistsError:  \n",
    "            print(src_filename,' already exists.')\n",
    "            continue"
   ]
  },
  {
   "cell_type": "code",
   "execution_count": 96,
   "metadata": {
    "collapsed": false
   },
   "outputs": [
    {
     "data": {
      "text/plain": [
       "'c:\\\\users\\\\d\\\\dfs'"
      ]
     },
     "execution_count": 96,
     "metadata": {},
     "output_type": "execute_result"
    }
   ],
   "source": [
    "os.path.abspath('')"
   ]
  }
 ],
 "metadata": {
  "kernelspec": {
   "display_name": "Python 3",
   "language": "python",
   "name": "python3"
  },
  "language_info": {
   "codemirror_mode": {
    "name": "ipython",
    "version": 3
   },
   "file_extension": ".py",
   "mimetype": "text/x-python",
   "name": "python",
   "nbconvert_exporter": "python",
   "pygments_lexer": "ipython3",
   "version": "3.5.3"
  }
 },
 "nbformat": 4,
 "nbformat_minor": 0
}
